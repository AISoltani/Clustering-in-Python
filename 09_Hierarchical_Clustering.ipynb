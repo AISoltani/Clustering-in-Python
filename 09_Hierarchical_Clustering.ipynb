{
  "nbformat": 4,
  "nbformat_minor": 0,
  "metadata": {
    "colab": {
      "name": "09 Hierarchical Clustering.ipynb",
      "provenance": [],
      "collapsed_sections": [],
      "authorship_tag": "ABX9TyPSryfKGLk7NLHrzXt5zIV/",
      "include_colab_link": true
    },
    "kernelspec": {
      "name": "python3",
      "display_name": "Python 3"
    }
  },
  "cells": [
    {
      "cell_type": "markdown",
      "metadata": {
        "id": "view-in-github",
        "colab_type": "text"
      },
      "source": [
        "<a href=\"https://colab.research.google.com/github/sandipanpaul21/ML-Clustering-in-Python/blob/master/09_Hierarchical_Clustering.ipynb\" target=\"_parent\"><img src=\"https://colab.research.google.com/assets/colab-badge.svg\" alt=\"Open In Colab\"/></a>"
      ]
    },
    {
      "cell_type": "code",
      "metadata": {
        "id": "OEVZB2KYH3X3",
        "colab_type": "code",
        "colab": {}
      },
      "source": [
        "# Hierarchical Clustering \n",
        "# Agglomerative Clustering which is a method of clustering \n",
        "# which builds a hierarchy of clusters by merging together small clusters"
      ],
      "execution_count": null,
      "outputs": []
    },
    {
      "cell_type": "code",
      "metadata": {
        "id": "qcrOZvxZDrFS",
        "colab_type": "code",
        "colab": {}
      },
      "source": [
        "# Importing Libraries\n",
        "\n",
        "from sklearn import datasets\n",
        "import matplotlib.pyplot as plt\n",
        "from sklearn.cluster import AgglomerativeClustering\n",
        "from sklearn.datasets import load_iris\n",
        "import numpy as np\n",
        "import pandas as pd"
      ],
      "execution_count": null,
      "outputs": []
    },
    {
      "cell_type": "code",
      "metadata": {
        "id": "IgadKpnrSlNM",
        "colab_type": "code",
        "colab": {
          "base_uri": "https://localhost:8080/",
          "height": 204
        },
        "outputId": "f848fa6c-a878-4e6c-cc4f-1a2f19f8f245"
      },
      "source": [
        "# Loading the Dataset\n",
        "\n",
        "iris = datasets.load_iris()\n",
        "iris_data = pd.DataFrame(iris.data)\n",
        "iris_data.columns = iris.feature_names\n",
        "iris_data['Type']=iris.target\n",
        "iris_data.head()"
      ],
      "execution_count": null,
      "outputs": [
        {
          "output_type": "execute_result",
          "data": {
            "text/html": [
              "<div>\n",
              "<style scoped>\n",
              "    .dataframe tbody tr th:only-of-type {\n",
              "        vertical-align: middle;\n",
              "    }\n",
              "\n",
              "    .dataframe tbody tr th {\n",
              "        vertical-align: top;\n",
              "    }\n",
              "\n",
              "    .dataframe thead th {\n",
              "        text-align: right;\n",
              "    }\n",
              "</style>\n",
              "<table border=\"1\" class=\"dataframe\">\n",
              "  <thead>\n",
              "    <tr style=\"text-align: right;\">\n",
              "      <th></th>\n",
              "      <th>sepal length (cm)</th>\n",
              "      <th>sepal width (cm)</th>\n",
              "      <th>petal length (cm)</th>\n",
              "      <th>petal width (cm)</th>\n",
              "      <th>Type</th>\n",
              "    </tr>\n",
              "  </thead>\n",
              "  <tbody>\n",
              "    <tr>\n",
              "      <th>0</th>\n",
              "      <td>5.1</td>\n",
              "      <td>3.5</td>\n",
              "      <td>1.4</td>\n",
              "      <td>0.2</td>\n",
              "      <td>0</td>\n",
              "    </tr>\n",
              "    <tr>\n",
              "      <th>1</th>\n",
              "      <td>4.9</td>\n",
              "      <td>3.0</td>\n",
              "      <td>1.4</td>\n",
              "      <td>0.2</td>\n",
              "      <td>0</td>\n",
              "    </tr>\n",
              "    <tr>\n",
              "      <th>2</th>\n",
              "      <td>4.7</td>\n",
              "      <td>3.2</td>\n",
              "      <td>1.3</td>\n",
              "      <td>0.2</td>\n",
              "      <td>0</td>\n",
              "    </tr>\n",
              "    <tr>\n",
              "      <th>3</th>\n",
              "      <td>4.6</td>\n",
              "      <td>3.1</td>\n",
              "      <td>1.5</td>\n",
              "      <td>0.2</td>\n",
              "      <td>0</td>\n",
              "    </tr>\n",
              "    <tr>\n",
              "      <th>4</th>\n",
              "      <td>5.0</td>\n",
              "      <td>3.6</td>\n",
              "      <td>1.4</td>\n",
              "      <td>0.2</td>\n",
              "      <td>0</td>\n",
              "    </tr>\n",
              "  </tbody>\n",
              "</table>\n",
              "</div>"
            ],
            "text/plain": [
              "   sepal length (cm)  sepal width (cm)  ...  petal width (cm)  Type\n",
              "0                5.1               3.5  ...               0.2     0\n",
              "1                4.9               3.0  ...               0.2     0\n",
              "2                4.7               3.2  ...               0.2     0\n",
              "3                4.6               3.1  ...               0.2     0\n",
              "4                5.0               3.6  ...               0.2     0\n",
              "\n",
              "[5 rows x 5 columns]"
            ]
          },
          "metadata": {
            "tags": []
          },
          "execution_count": 3
        }
      ]
    },
    {
      "cell_type": "code",
      "metadata": {
        "id": "YYotNIqgS1PM",
        "colab_type": "code",
        "colab": {
          "base_uri": "https://localhost:8080/",
          "height": 107
        },
        "outputId": "7f7c14fc-4166-4779-a706-23f413406185"
      },
      "source": [
        "# Preparing Data\n",
        "# Here we have the target variable ‘Type’. \n",
        "# We need to remove the target variable, used to work in an unsupervised learning \n",
        "# The iloc function is used to get the features we require. \n",
        "# We also use .values function to get an array of the dataset. \n",
        "# Note : We transformed the dataset to an array so that we can plot the graphs of the clusters\n",
        "\n",
        "iris_X = iris_data.iloc[:, [0, 1, 2,3]].values\n",
        "print(iris_X[:5,:]) # Printing First 5 Rows"
      ],
      "execution_count": null,
      "outputs": [
        {
          "output_type": "stream",
          "text": [
            "[[5.1 3.5 1.4 0.2]\n",
            " [4.9 3.  1.4 0.2]\n",
            " [4.7 3.2 1.3 0.2]\n",
            " [4.6 3.1 1.5 0.2]\n",
            " [5.  3.6 1.4 0.2]]\n"
          ],
          "name": "stdout"
        }
      ]
    },
    {
      "cell_type": "code",
      "metadata": {
        "id": "nQQGS8_dTvbU",
        "colab_type": "code",
        "colab": {
          "base_uri": "https://localhost:8080/",
          "height": 125
        },
        "outputId": "0fac167c-a2f4-40f9-9cad-9b336072a6ff"
      },
      "source": [
        "# Now we will separate the target variable from the original dataset \n",
        "# And again convert it to an array by using numpy\n",
        "iris_Y = iris_data['Type']\n",
        "iris_Y = np.array(iris_Y)\n",
        "print(iris_Y)\n",
        "# Frequency count of the Output clusters\n",
        "unique, counts = np.unique(iris_Y, return_counts=True)\n",
        "freq_1 = dict(zip(unique, counts))\n",
        "freq_1"
      ],
      "execution_count": null,
      "outputs": [
        {
          "output_type": "stream",
          "text": [
            "[0 0 0 0 0 0 0 0 0 0 0 0 0 0 0 0 0 0 0 0 0 0 0 0 0 0 0 0 0 0 0 0 0 0 0 0 0\n",
            " 0 0 0 0 0 0 0 0 0 0 0 0 0 1 1 1 1 1 1 1 1 1 1 1 1 1 1 1 1 1 1 1 1 1 1 1 1\n",
            " 1 1 1 1 1 1 1 1 1 1 1 1 1 1 1 1 1 1 1 1 1 1 1 1 1 1 2 2 2 2 2 2 2 2 2 2 2\n",
            " 2 2 2 2 2 2 2 2 2 2 2 2 2 2 2 2 2 2 2 2 2 2 2 2 2 2 2 2 2 2 2 2 2 2 2 2 2\n",
            " 2 2]\n"
          ],
          "name": "stdout"
        },
        {
          "output_type": "execute_result",
          "data": {
            "text/plain": [
              "{0: 50, 1: 50, 2: 50}"
            ]
          },
          "metadata": {
            "tags": []
          },
          "execution_count": 5
        }
      ]
    },
    {
      "cell_type": "code",
      "metadata": {
        "id": "7zdlBmMrilBn",
        "colab_type": "code",
        "colab": {
          "base_uri": "https://localhost:8080/",
          "height": 395
        },
        "outputId": "f11ba3ae-3a48-43af-edf7-184755d71e84"
      },
      "source": [
        "# Filtering Setosa\n",
        "\n",
        "Setosa = iris_data['Type'] == 0\n",
        "print(\"Filtering Setosa, True means its Setosa and False means Non Setosa\")\n",
        "print(Setosa.head())\n",
        "print(\"Top 6 Rows of Setosa\")\n",
        "Setosa_v2 = iris_data[Setosa]\n",
        "print(Setosa_v2[Setosa_v2.columns[0:2]].head())\n",
        "print(\"Last 6 Rows of Setosa\")\n",
        "print(Setosa_v2[Setosa_v2.columns[0:2]].tail())"
      ],
      "execution_count": null,
      "outputs": [
        {
          "output_type": "stream",
          "text": [
            "Filtering Setosa, True means its Setosa and False means Non Setosa\n",
            "0    True\n",
            "1    True\n",
            "2    True\n",
            "3    True\n",
            "4    True\n",
            "Name: Type, dtype: bool\n",
            "Top 6 Rows of Setosa\n",
            "   sepal length (cm)  sepal width (cm)\n",
            "0                5.1               3.5\n",
            "1                4.9               3.0\n",
            "2                4.7               3.2\n",
            "3                4.6               3.1\n",
            "4                5.0               3.6\n",
            "Last 6 Rows of Setosa\n",
            "    sepal length (cm)  sepal width (cm)\n",
            "45                4.8               3.0\n",
            "46                5.1               3.8\n",
            "47                4.6               3.2\n",
            "48                5.3               3.7\n",
            "49                5.0               3.3\n"
          ],
          "name": "stdout"
        }
      ]
    },
    {
      "cell_type": "code",
      "metadata": {
        "id": "_wOmXWLJWzq5",
        "colab_type": "code",
        "colab": {
          "base_uri": "https://localhost:8080/",
          "height": 485
        },
        "outputId": "f8467913-fd4c-4cd8-cbe0-3fb632840a68"
      },
      "source": [
        "# Filtering Setosa for 2D Plot \n",
        "\n",
        "print(\"Setosa for 2D Plot\")\n",
        "print(\"X Axis points\")\n",
        "print(iris_X[iris_Y == 0,0])\n",
        "print(\"Y Axis Points\")\n",
        "print(iris_X[iris_Y == 0,1])\n",
        "print('\\n')\n",
        "# For Setosa in Target Column i.e, iris_Y = 0 \n",
        "# In other word it should range from (0,0) to (0,1)\n",
        "plt.scatter(iris_X[iris_Y == 0, 0], iris_X[iris_Y == 0, 1], \n",
        "            s = 80, c = 'orange', label = 'Iris-setosa')\n",
        "plt.xlim([4.5,8])\n",
        "plt.ylim([2,4.5])"
      ],
      "execution_count": null,
      "outputs": [
        {
          "output_type": "stream",
          "text": [
            "Setosa for 2D Plot\n",
            "X Axis points\n",
            "[5.1 4.9 4.7 4.6 5.  5.4 4.6 5.  4.4 4.9 5.4 4.8 4.8 4.3 5.8 5.7 5.4 5.1\n",
            " 5.7 5.1 5.4 5.1 4.6 5.1 4.8 5.  5.  5.2 5.2 4.7 4.8 5.4 5.2 5.5 4.9 5.\n",
            " 5.5 4.9 4.4 5.1 5.  4.5 4.4 5.  5.1 4.8 5.1 4.6 5.3 5. ]\n",
            "Y Axis Points\n",
            "[3.5 3.  3.2 3.1 3.6 3.9 3.4 3.4 2.9 3.1 3.7 3.4 3.  3.  4.  4.4 3.9 3.5\n",
            " 3.8 3.8 3.4 3.7 3.6 3.3 3.4 3.  3.4 3.5 3.4 3.2 3.1 3.4 4.1 4.2 3.1 3.2\n",
            " 3.5 3.6 3.  3.4 3.5 2.3 3.2 3.5 3.8 3.  3.8 3.2 3.7 3.3]\n",
            "\n",
            "\n"
          ],
          "name": "stdout"
        },
        {
          "output_type": "execute_result",
          "data": {
            "text/plain": [
              "(2.0, 4.5)"
            ]
          },
          "metadata": {
            "tags": []
          },
          "execution_count": 7
        },
        {
          "output_type": "display_data",
          "data": {
            "image/png": "[encoded data removed]",
            "text/plain": [
              "<Figure size 432x288 with 1 Axes>"
            ]
          },
          "metadata": {
            "tags": [],
            "needs_background": "light"
          }
        }
      ]
    },
    {
      "cell_type": "code",
      "metadata": {
        "id": "vN6l86eLnvni",
        "colab_type": "code",
        "colab": {
          "base_uri": "https://localhost:8080/",
          "height": 395
        },
        "outputId": "e1efa9e7-56a0-4254-ee3e-4bf8ad94640d"
      },
      "source": [
        "# Filtering Versicolour\n",
        "\n",
        "Versi = iris_data['Type'] == 1\n",
        "print(\"Filtering Versicolour, True means its Versicolour and False means Non Versicolour\")\n",
        "print(Versi.head())\n",
        "print(\"Top 6 Rows of Versicolour\")\n",
        "Versi_v2 = iris_data[Versi]\n",
        "print(Versi_v2[Versi_v2.columns[0:2]].head())\n",
        "print(\"Last 6 Rows of Versicolour\")\n",
        "print(Versi_v2[Versi_v2.columns[0:2]].tail())"
      ],
      "execution_count": null,
      "outputs": [
        {
          "output_type": "stream",
          "text": [
            "Filtering Versicolour, True means its Versicolour and False means Non Versicolour\n",
            "0    False\n",
            "1    False\n",
            "2    False\n",
            "3    False\n",
            "4    False\n",
            "Name: Type, dtype: bool\n",
            "Top 6 Rows of Versicolour\n",
            "    sepal length (cm)  sepal width (cm)\n",
            "50                7.0               3.2\n",
            "51                6.4               3.2\n",
            "52                6.9               3.1\n",
            "53                5.5               2.3\n",
            "54                6.5               2.8\n",
            "Last 6 Rows of Versicolour\n",
            "    sepal length (cm)  sepal width (cm)\n",
            "95                5.7               3.0\n",
            "96                5.7               2.9\n",
            "97                6.2               2.9\n",
            "98                5.1               2.5\n",
            "99                5.7               2.8\n"
          ],
          "name": "stdout"
        }
      ]
    },
    {
      "cell_type": "code",
      "metadata": {
        "id": "M7mb70sXnTMg",
        "colab_type": "code",
        "colab": {
          "base_uri": "https://localhost:8080/",
          "height": 485
        },
        "outputId": "8208c98b-2946-4f96-f33a-5562ba9262fd"
      },
      "source": [
        "# Filtering Versicolour for 2D Plot \n",
        "\n",
        "print(\"Versicolour for 2D Plot\")\n",
        "print(\"X Axis points\")\n",
        "print(iris_X[iris_Y == 1,0])\n",
        "print(\"Y Axis Points\")\n",
        "print(iris_X[iris_Y == 1,1])\n",
        "print('\\n')\n",
        "plt.scatter(iris_X[iris_Y == 1, 0], iris_X[iris_Y == 1, 1], \n",
        "            s = 80, c = 'yellow', label = 'Iris-versicolour')\n",
        "\n",
        "plt.xlim([4.5,8])\n",
        "plt.ylim([2,4.5])"
      ],
      "execution_count": null,
      "outputs": [
        {
          "output_type": "stream",
          "text": [
            "Versicolour for 2D Plot\n",
            "X Axis points\n",
            "[7.  6.4 6.9 5.5 6.5 5.7 6.3 4.9 6.6 5.2 5.  5.9 6.  6.1 5.6 6.7 5.6 5.8\n",
            " 6.2 5.6 5.9 6.1 6.3 6.1 6.4 6.6 6.8 6.7 6.  5.7 5.5 5.5 5.8 6.  5.4 6.\n",
            " 6.7 6.3 5.6 5.5 5.5 6.1 5.8 5.  5.6 5.7 5.7 6.2 5.1 5.7]\n",
            "Y Axis Points\n",
            "[3.2 3.2 3.1 2.3 2.8 2.8 3.3 2.4 2.9 2.7 2.  3.  2.2 2.9 2.9 3.1 3.  2.7\n",
            " 2.2 2.5 3.2 2.8 2.5 2.8 2.9 3.  2.8 3.  2.9 2.6 2.4 2.4 2.7 2.7 3.  3.4\n",
            " 3.1 2.3 3.  2.5 2.6 3.  2.6 2.3 2.7 3.  2.9 2.9 2.5 2.8]\n",
            "\n",
            "\n"
          ],
          "name": "stdout"
        },
        {
          "output_type": "execute_result",
          "data": {
            "text/plain": [
              "(2.0, 4.5)"
            ]
          },
          "metadata": {
            "tags": []
          },
          "execution_count": 9
        },
        {
          "output_type": "display_data",
          "data": {
            "image/png": "[encoded data removed]",
            "text/plain": [
              "<Figure size 432x288 with 1 Axes>"
            ]
          },
          "metadata": {
            "tags": [],
            "needs_background": "light"
          }
        }
      ]
    },
    {
      "cell_type": "code",
      "metadata": {
        "id": "qD2TL0cwocaN",
        "colab_type": "code",
        "colab": {
          "base_uri": "https://localhost:8080/",
          "height": 395
        },
        "outputId": "478e3ae6-912e-4c5c-cde8-29de4657736f"
      },
      "source": [
        "# Filtering Virginica\n",
        "\n",
        "Virginica = iris_data['Type'] == 2\n",
        "print(\"Filtering Virginica, True means its Virginica and False means Non Virginica\")\n",
        "print(Virginica.head())\n",
        "print(\"Top 6 Rows of Virginica\")\n",
        "Virginica_v2 = iris_data[Virginica]\n",
        "print(Virginica_v2[Virginica_v2.columns[0:2]].head())\n",
        "print(\"Last 6 Rows of Virginica\")\n",
        "print(Virginica_v2[Virginica_v2.columns[0:2]].tail())"
      ],
      "execution_count": null,
      "outputs": [
        {
          "output_type": "stream",
          "text": [
            "Filtering Virginica, True means its Virginica and False means Non Virginica\n",
            "0    False\n",
            "1    False\n",
            "2    False\n",
            "3    False\n",
            "4    False\n",
            "Name: Type, dtype: bool\n",
            "Top 6 Rows of Virginica\n",
            "     sepal length (cm)  sepal width (cm)\n",
            "100                6.3               3.3\n",
            "101                5.8               2.7\n",
            "102                7.1               3.0\n",
            "103                6.3               2.9\n",
            "104                6.5               3.0\n",
            "Last 6 Rows of Virginica\n",
            "     sepal length (cm)  sepal width (cm)\n",
            "145                6.7               3.0\n",
            "146                6.3               2.5\n",
            "147                6.5               3.0\n",
            "148                6.2               3.4\n",
            "149                5.9               3.0\n"
          ],
          "name": "stdout"
        }
      ]
    },
    {
      "cell_type": "code",
      "metadata": {
        "id": "wsnoGdx0objs",
        "colab_type": "code",
        "colab": {
          "base_uri": "https://localhost:8080/",
          "height": 485
        },
        "outputId": "1e801417-07a5-42b6-ec8a-f5629c50ed34"
      },
      "source": [
        "# Filtering Virginica for 2D Plot\n",
        "\n",
        "print(\"Virginica for 2D Plot\")\n",
        "print(\"X Axis points\")\n",
        "print(iris_X[iris_Y == 2,0])\n",
        "print(\"Y Axis Points\")\n",
        "print(iris_X[iris_Y == 2,1])\n",
        "print('\\n')\n",
        "plt.scatter(iris_X[iris_Y == 2, 0], iris_X[iris_Y == 2, 1], \n",
        "            s = 80, c = 'green', label = 'Iris-virginica')\n",
        "plt.xlim([4.5,8])\n",
        "plt.ylim([2,4.5])"
      ],
      "execution_count": null,
      "outputs": [
        {
          "output_type": "stream",
          "text": [
            "Virginica for 2D Plot\n",
            "X Axis points\n",
            "[6.3 5.8 7.1 6.3 6.5 7.6 4.9 7.3 6.7 7.2 6.5 6.4 6.8 5.7 5.8 6.4 6.5 7.7\n",
            " 7.7 6.  6.9 5.6 7.7 6.3 6.7 7.2 6.2 6.1 6.4 7.2 7.4 7.9 6.4 6.3 6.1 7.7\n",
            " 6.3 6.4 6.  6.9 6.7 6.9 5.8 6.8 6.7 6.7 6.3 6.5 6.2 5.9]\n",
            "Y Axis Points\n",
            "[3.3 2.7 3.  2.9 3.  3.  2.5 2.9 2.5 3.6 3.2 2.7 3.  2.5 2.8 3.2 3.  3.8\n",
            " 2.6 2.2 3.2 2.8 2.8 2.7 3.3 3.2 2.8 3.  2.8 3.  2.8 3.8 2.8 2.8 2.6 3.\n",
            " 3.4 3.1 3.  3.1 3.1 3.1 2.7 3.2 3.3 3.  2.5 3.  3.4 3. ]\n",
            "\n",
            "\n"
          ],
          "name": "stdout"
        },
        {
          "output_type": "execute_result",
          "data": {
            "text/plain": [
              "(2.0, 4.5)"
            ]
          },
          "metadata": {
            "tags": []
          },
          "execution_count": 11
        },
        {
          "output_type": "display_data",
          "data": {
            "image/png": "[encoded data removed]",
            "text/plain": [
              "<Figure size 432x288 with 1 Axes>"
            ]
          },
          "metadata": {
            "tags": [],
            "needs_background": "light"
          }
        }
      ]
    },
    {
      "cell_type": "code",
      "metadata": {
        "id": "HCShLm9HUWHn",
        "colab_type": "code",
        "colab": {
          "base_uri": "https://localhost:8080/",
          "height": 286
        },
        "outputId": "c2c7f0a4-867e-4597-afa1-3b5a5fb1a2ed"
      },
      "source": [
        "# Visualise Classes all at once\n",
        "\n",
        "# In this Iris dataset, we have three classes (0,1,2)\n",
        "# We visualise these classes in a 2-D graph \n",
        "# This will help us in comparing the original classes with the clusters created \n",
        "# Plot the three type of flowers on a graph\n",
        "\n",
        "plt.scatter(iris_X[iris_Y == 0, 0], iris_X[iris_Y == 0, 1], \n",
        "            s = 80, c = 'orange', label = 'Iris-setosa')\n",
        "plt.scatter(iris_X[iris_Y == 1, 0], iris_X[iris_Y == 1, 1], \n",
        "            s = 80, c = 'yellow', label = 'Iris-versicolour')\n",
        "plt.scatter(iris_X[iris_Y == 2, 0], iris_X[iris_Y == 2, 1], \n",
        "            s = 80, c = 'green', label = 'Iris-virginica')\n",
        "plt.legend()\n",
        "\n",
        "# Inference : \n",
        "# We find that we have three classes with two types of Iris flowers overlapping each other"
      ],
      "execution_count": null,
      "outputs": [
        {
          "output_type": "execute_result",
          "data": {
            "text/plain": [
              "<matplotlib.legend.Legend at 0x7f22460ea4e0>"
            ]
          },
          "metadata": {
            "tags": []
          },
          "execution_count": 12
        },
        {
          "output_type": "display_data",
          "data": {
            "image/png": "[encoded data removed]",
            "text/plain": [
              "<Figure size 432x288 with 1 Axes>"
            ]
          },
          "metadata": {
            "tags": [],
            "needs_background": "light"
          }
        }
      ]
    },
    {
      "cell_type": "code",
      "metadata": {
        "id": "Q4QWIYUC5XG7",
        "colab_type": "code",
        "colab": {
          "base_uri": "https://localhost:8080/",
          "height": 204
        },
        "outputId": "1f884a36-3ccf-4384-9efc-456e94a5a2ba"
      },
      "source": [
        "# Plotting of Dendrogram\n",
        "\n",
        "# We make use of dendrogram to decide the number of clusters required for our dataset\n",
        "# A dendrogram is a tree diagram which illustrates the arrangement of clusters.\n",
        "import scipy.cluster.hierarchy as sch\n",
        "\n",
        "# Pick the features from the original dataset\n",
        "# We don't need Target Column in Clustering\n",
        "iris_X_1 = iris_data[['sepal length (cm)','sepal width (cm)',\n",
        "                      'petal length (cm)','petal width (cm)']]\n",
        "iris_X_1.head()"
      ],
      "execution_count": null,
      "outputs": [
        {
          "output_type": "execute_result",
          "data": {
            "text/html": [
              "<div>\n",
              "<style scoped>\n",
              "    .dataframe tbody tr th:only-of-type {\n",
              "        vertical-align: middle;\n",
              "    }\n",
              "\n",
              "    .dataframe tbody tr th {\n",
              "        vertical-align: top;\n",
              "    }\n",
              "\n",
              "    .dataframe thead th {\n",
              "        text-align: right;\n",
              "    }\n",
              "</style>\n",
              "<table border=\"1\" class=\"dataframe\">\n",
              "  <thead>\n",
              "    <tr style=\"text-align: right;\">\n",
              "      <th></th>\n",
              "      <th>sepal length (cm)</th>\n",
              "      <th>sepal width (cm)</th>\n",
              "      <th>petal length (cm)</th>\n",
              "      <th>petal width (cm)</th>\n",
              "    </tr>\n",
              "  </thead>\n",
              "  <tbody>\n",
              "    <tr>\n",
              "      <th>0</th>\n",
              "      <td>5.1</td>\n",
              "      <td>3.5</td>\n",
              "      <td>1.4</td>\n",
              "      <td>0.2</td>\n",
              "    </tr>\n",
              "    <tr>\n",
              "      <th>1</th>\n",
              "      <td>4.9</td>\n",
              "      <td>3.0</td>\n",
              "      <td>1.4</td>\n",
              "      <td>0.2</td>\n",
              "    </tr>\n",
              "    <tr>\n",
              "      <th>2</th>\n",
              "      <td>4.7</td>\n",
              "      <td>3.2</td>\n",
              "      <td>1.3</td>\n",
              "      <td>0.2</td>\n",
              "    </tr>\n",
              "    <tr>\n",
              "      <th>3</th>\n",
              "      <td>4.6</td>\n",
              "      <td>3.1</td>\n",
              "      <td>1.5</td>\n",
              "      <td>0.2</td>\n",
              "    </tr>\n",
              "    <tr>\n",
              "      <th>4</th>\n",
              "      <td>5.0</td>\n",
              "      <td>3.6</td>\n",
              "      <td>1.4</td>\n",
              "      <td>0.2</td>\n",
              "    </tr>\n",
              "  </tbody>\n",
              "</table>\n",
              "</div>"
            ],
            "text/plain": [
              "   sepal length (cm)  sepal width (cm)  petal length (cm)  petal width (cm)\n",
              "0                5.1               3.5                1.4               0.2\n",
              "1                4.9               3.0                1.4               0.2\n",
              "2                4.7               3.2                1.3               0.2\n",
              "3                4.6               3.1                1.5               0.2\n",
              "4                5.0               3.6                1.4               0.2"
            ]
          },
          "metadata": {
            "tags": []
          },
          "execution_count": 13
        }
      ]
    },
    {
      "cell_type": "code",
      "metadata": {
        "id": "TSWOuFF756Fi",
        "colab_type": "code",
        "colab": {
          "base_uri": "https://localhost:8080/",
          "height": 395
        },
        "outputId": "36ca141b-2041-49fb-dc2e-53261850fd81"
      },
      "source": [
        "# We finally plot a Dendrogram \n",
        "# which helps us in deciding what the threshold values should be for the clustering algorithm\n",
        "# Basically, we decide the number of clusters by using this dendrogram.\n",
        "\n",
        "Z = sch.linkage(iris_X_1, method = 'median')\n",
        "plt.figure(figsize=(20,7))\n",
        "den = sch.dendrogram(Z)\n",
        "plt.title('Dendrogram for the clustering of the dataset iris)')\n",
        "plt.xlabel('Type')\n",
        "plt.ylabel('Euclidean distance in the space with other variables')"
      ],
      "execution_count": null,
      "outputs": [
        {
          "output_type": "execute_result",
          "data": {
            "text/plain": [
              "Text(0, 0.5, 'Euclidean distance in the space with other variables')"
            ]
          },
          "metadata": {
            "tags": []
          },
          "execution_count": 14
        },
        {
          "output_type": "display_data",
          "data": {
            "image/png": "[encoded data removed]",
            "text/plain": [
              "<Figure size 1440x504 with 1 Axes>"
            ]
          },
          "metadata": {
            "tags": [],
            "needs_background": "light"
          }
        }
      ]
    },
    {
      "cell_type": "code",
      "metadata": {
        "id": "pJnhnUlt6Hw7",
        "colab_type": "code",
        "colab": {
          "base_uri": "https://localhost:8080/",
          "height": 71
        },
        "outputId": "27519c47-a8b1-46a6-dc77-a93aaa6a394d"
      },
      "source": [
        "# Building an Agglomerative Clustering Model\n",
        "# Initialise Model\n",
        "# We analyse the above-created dendrogram \n",
        "# decide that we will be making 3 clusters for this dataset\n",
        "\n",
        "cluster_H = AgglomerativeClustering(n_clusters=3)\n",
        "cluster_H"
      ],
      "execution_count": null,
      "outputs": [
        {
          "output_type": "execute_result",
          "data": {
            "text/plain": [
              "AgglomerativeClustering(affinity='euclidean', compute_full_tree='auto',\n",
              "                        connectivity=None, distance_threshold=None,\n",
              "                        linkage='ward', memory=None, n_clusters=3)"
            ]
          },
          "metadata": {
            "tags": []
          },
          "execution_count": 15
        }
      ]
    },
    {
      "cell_type": "code",
      "metadata": {
        "id": "BYHVXgB96Yxi",
        "colab_type": "code",
        "colab": {
          "base_uri": "https://localhost:8080/",
          "height": 71
        },
        "outputId": "7d98ec2c-007d-4b74-fb16-f85a4d56a1d1"
      },
      "source": [
        "# Fitting Model\n",
        "# After building Agglomerative clustering, we will fit our iris data set\n",
        "# Note that only the independent variables from the Iris dataset \n",
        "# are taken into account for the purpose of clustering\n",
        "\n",
        "model_clt = cluster_H.fit(iris_X_1)\n",
        "model_clt"
      ],
      "execution_count": null,
      "outputs": [
        {
          "output_type": "execute_result",
          "data": {
            "text/plain": [
              "AgglomerativeClustering(affinity='euclidean', compute_full_tree='auto',\n",
              "                        connectivity=None, distance_threshold=None,\n",
              "                        linkage='ward', memory=None, n_clusters=3)"
            ]
          },
          "metadata": {
            "tags": []
          },
          "execution_count": 16
        }
      ]
    },
    {
      "cell_type": "code",
      "metadata": {
        "id": "RCNXJPX26oCP",
        "colab_type": "code",
        "colab": {
          "base_uri": "https://localhost:8080/",
          "height": 143
        },
        "outputId": "2afa5ded-2100-4ace-c920-9bc037f4455c"
      },
      "source": [
        "# Predicting Output Class\n",
        "\n",
        "print('Output Clusters are')\n",
        "pred1 = model_clt.labels_\n",
        "print(pred1)\n",
        "# Frequency count of the Output clusters\n",
        "unique, counts = np.unique(pred1, return_counts=True)\n",
        "print(dict(zip(unique, counts)))"
      ],
      "execution_count": null,
      "outputs": [
        {
          "output_type": "stream",
          "text": [
            "Output Clusters are\n",
            "[1 1 1 1 1 1 1 1 1 1 1 1 1 1 1 1 1 1 1 1 1 1 1 1 1 1 1 1 1 1 1 1 1 1 1 1 1\n",
            " 1 1 1 1 1 1 1 1 1 1 1 1 1 0 0 0 0 0 0 0 0 0 0 0 0 0 0 0 0 0 0 0 0 0 0 0 0\n",
            " 0 0 0 2 0 0 0 0 0 0 0 0 0 0 0 0 0 0 0 0 0 0 0 0 0 0 2 0 2 2 2 2 0 2 2 2 2\n",
            " 2 2 0 0 2 2 2 2 0 2 0 2 0 2 2 0 0 2 2 2 2 2 0 0 2 2 2 0 2 2 2 0 2 2 2 0 2\n",
            " 2 0]\n",
            "{0: 64, 1: 50, 2: 36}\n"
          ],
          "name": "stdout"
        }
      ]
    },
    {
      "cell_type": "code",
      "metadata": {
        "id": "oMPtUa9C7B-T",
        "colab_type": "code",
        "colab": {
          "base_uri": "https://localhost:8080/",
          "height": 394
        },
        "outputId": "446ef64d-71c1-4e8d-ea8c-d2fa2e5a1e2d"
      },
      "source": [
        "# Visualizing Output\n",
        "\n",
        "print('Old Frequency of Output Cluster')\n",
        "print(freq_1)\n",
        "# Frequency count of the Output clusters\n",
        "unique, counts = np.unique(pred1, return_counts=True)\n",
        "print('New Frequency of Output Cluster')\n",
        "print(dict(zip(unique, counts)))\n",
        "print('\\n')\n",
        "\n",
        "# In the above output we got value labels: ‘0’, ‘1’  and ‘2’\n",
        "# For a better understanding, we can visualize these clusters.\n",
        "\n",
        "# We use the above-found class labels and visualise how the clusters have been formed.\n",
        "\n",
        "plt.scatter(iris_X[pred1 == 0, 0], iris_X[pred1 == 0, 1], \n",
        "            s = 80, c = 'orange', label = 'Iris-setosa')\n",
        "plt.scatter(iris_X[pred1 == 1, 0], iris_X[pred1 == 1, 1], \n",
        "            s = 80, c = 'yellow', label = 'Iris-versicolour')\n",
        "plt.scatter(iris_X[pred1 == 2, 0], iris_X[pred1 == 2, 1], \n",
        "            s = 80, c = 'green', label = 'Iris-virginica')\n",
        "plt.legend()"
      ],
      "execution_count": null,
      "outputs": [
        {
          "output_type": "stream",
          "text": [
            "Old Frequency of Output Cluster\n",
            "{0: 50, 1: 50, 2: 50}\n",
            "New Frequency of Output Cluster\n",
            "{0: 64, 1: 50, 2: 36}\n",
            "\n",
            "\n"
          ],
          "name": "stdout"
        },
        {
          "output_type": "execute_result",
          "data": {
            "text/plain": [
              "<matplotlib.legend.Legend at 0x7f224308f9b0>"
            ]
          },
          "metadata": {
            "tags": []
          },
          "execution_count": 18
        },
        {
          "output_type": "display_data",
          "data": {
            "image/png": "[encoded data removed]",
            "text/plain": [
              "<Figure size 432x288 with 1 Axes>"
            ]
          },
          "metadata": {
            "tags": [],
            "needs_background": "light"
          }
        }
      ]
    }
  ]
}